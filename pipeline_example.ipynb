{
  "nbformat": 4,
  "nbformat_minor": 0,
  "metadata": {
    "kernelspec": {
      "display_name": "learn-env",
      "language": "python",
      "name": "learn-env"
    },
    "language_info": {
      "codemirror_mode": {
        "name": "ipython",
        "version": 3
      },
      "file_extension": ".py",
      "mimetype": "text/x-python",
      "name": "python",
      "nbconvert_exporter": "python",
      "pygments_lexer": "ipython3",
      "version": "3.8.5"
    },
    "toc": {
      "base_numbering": 1,
      "nav_menu": {},
      "number_sections": true,
      "sideBar": true,
      "skip_h1_title": false,
      "title_cell": "Table of Contents",
      "title_sidebar": "Contents",
      "toc_cell": false,
      "toc_position": {},
      "toc_section_display": true,
      "toc_window_display": false
    },
    "colab": {
      "name": "pipeline_example.ipynb",
      "provenance": [],
      "collapsed_sections": [
        "WvuO4GY3bkIN",
        "qX7gsZZabkIO",
        "tj-gugyxbkIQ"
      ],
      "include_colab_link": true
    },
    "accelerator": "GPU"
  },
  "cells": [
    {
      "cell_type": "markdown",
      "metadata": {
        "id": "view-in-github",
        "colab_type": "text"
      },
      "source": [
        "<a href=\"https://colab.research.google.com/github/Lewis34cs/colab_practice/blob/main/pipeline_example.ipynb\" target=\"_parent\"><img src=\"https://colab.research.google.com/assets/colab-badge.svg\" alt=\"Open In Colab\"/></a>"
      ]
    },
    {
      "cell_type": "code",
      "metadata": {
        "colab": {
          "base_uri": "https://localhost:8080/"
        },
        "id": "dpnXzXI3bwr3",
        "outputId": "7f3caac7-1834-4020-e3d3-eb061e94ebaf"
      },
      "source": [
        "from google.colab import drive\n",
        "drive.mount('/content/drive')"
      ],
      "execution_count": 46,
      "outputs": [
        {
          "output_type": "stream",
          "text": [
            "Drive already mounted at /content/drive; to attempt to forcibly remount, call drive.mount(\"/content/drive\", force_remount=True).\n"
          ],
          "name": "stdout"
        }
      ]
    },
    {
      "cell_type": "code",
      "metadata": {
        "id": "4LiR4IEjbkH9"
      },
      "source": [
        "import seaborn as sns\n",
        "import pandas as pd\n",
        "import numpy as np\n",
        "import time\n",
        "import matplotlib.pyplot as plt\n",
        "from scipy.stats import ttest_ind\n",
        "from sklearn.pipeline import Pipeline\n",
        "from sklearn.preprocessing import OneHotEncoder, StandardScaler, FunctionTransformer\n",
        "from sklearn.model_selection import train_test_split, cross_validate\n",
        "from sklearn.compose import ColumnTransformer\n",
        "from sklearn.tree import DecisionTreeClassifier\n",
        "from sklearn.ensemble import RandomForestClassifier\n",
        "from sklearn.model_selection import GridSearchCV\n",
        "from sklearn.metrics import classification_report, plot_confusion_matrix\n",
        "from sklearn.impute import SimpleImputer\n",
        "import xgboost as xgb\n",
        "from imblearn.pipeline import Pipeline as imbpipeline\n",
        "from imblearn.over_sampling import SMOTE\n",
        "\n",
        "import warnings\n",
        "warnings.simplefilter(action='ignore', category=FutureWarning)"
      ],
      "execution_count": 47,
      "outputs": []
    },
    {
      "cell_type": "code",
      "metadata": {
        "id": "V9_IJSFZbkIA"
      },
      "source": [
        "df = sns.load_dataset('diamonds')"
      ],
      "execution_count": 48,
      "outputs": []
    },
    {
      "cell_type": "markdown",
      "metadata": {
        "id": "VX0lLs51fvXL"
      },
      "source": [
        "We can also read in files from our google drive"
      ]
    },
    {
      "cell_type": "code",
      "metadata": {
        "id": "4MAyw0qVfked"
      },
      "source": [
        "test = pd.read_csv('/content/drive/MyDrive/practice/data/bankrupt.csv')"
      ],
      "execution_count": 49,
      "outputs": []
    },
    {
      "cell_type": "code",
      "metadata": {
        "colab": {
          "base_uri": "https://localhost:8080/",
          "height": 372
        },
        "id": "FGcrNNIOfrD8",
        "outputId": "de01b432-3196-4bcd-d46b-dc0734da5292"
      },
      "source": [
        "test.head()"
      ],
      "execution_count": 50,
      "outputs": [
        {
          "output_type": "execute_result",
          "data": {
            "text/html": [
              "<div>\n",
              "<style scoped>\n",
              "    .dataframe tbody tr th:only-of-type {\n",
              "        vertical-align: middle;\n",
              "    }\n",
              "\n",
              "    .dataframe tbody tr th {\n",
              "        vertical-align: top;\n",
              "    }\n",
              "\n",
              "    .dataframe thead th {\n",
              "        text-align: right;\n",
              "    }\n",
              "</style>\n",
              "<table border=\"1\" class=\"dataframe\">\n",
              "  <thead>\n",
              "    <tr style=\"text-align: right;\">\n",
              "      <th></th>\n",
              "      <th>Bankrupt?</th>\n",
              "      <th>ROA(C) before interest and depreciation before interest</th>\n",
              "      <th>ROA(A) before interest and % after tax</th>\n",
              "      <th>ROA(B) before interest and depreciation after tax</th>\n",
              "      <th>Operating Gross Margin</th>\n",
              "      <th>Realized Sales Gross Margin</th>\n",
              "      <th>Operating Profit Rate</th>\n",
              "      <th>Pre-tax net Interest Rate</th>\n",
              "      <th>After-tax net Interest Rate</th>\n",
              "      <th>Non-industry income and expenditure/revenue</th>\n",
              "      <th>Continuous interest rate (after tax)</th>\n",
              "      <th>Operating Expense Rate</th>\n",
              "      <th>Research and development expense rate</th>\n",
              "      <th>Cash flow rate</th>\n",
              "      <th>Interest-bearing debt interest rate</th>\n",
              "      <th>Tax rate (A)</th>\n",
              "      <th>Net Value Per Share (B)</th>\n",
              "      <th>Net Value Per Share (A)</th>\n",
              "      <th>Net Value Per Share (C)</th>\n",
              "      <th>Persistent EPS in the Last Four Seasons</th>\n",
              "      <th>Cash Flow Per Share</th>\n",
              "      <th>Revenue Per Share (Yuan ¥)</th>\n",
              "      <th>Operating Profit Per Share (Yuan ¥)</th>\n",
              "      <th>Per Share Net profit before tax (Yuan ¥)</th>\n",
              "      <th>Realized Sales Gross Profit Growth Rate</th>\n",
              "      <th>Operating Profit Growth Rate</th>\n",
              "      <th>After-tax Net Profit Growth Rate</th>\n",
              "      <th>Regular Net Profit Growth Rate</th>\n",
              "      <th>Continuous Net Profit Growth Rate</th>\n",
              "      <th>Total Asset Growth Rate</th>\n",
              "      <th>Net Value Growth Rate</th>\n",
              "      <th>Total Asset Return Growth Rate Ratio</th>\n",
              "      <th>Cash Reinvestment %</th>\n",
              "      <th>Current Ratio</th>\n",
              "      <th>Quick Ratio</th>\n",
              "      <th>Interest Expense Ratio</th>\n",
              "      <th>Total debt/Total net worth</th>\n",
              "      <th>Debt ratio %</th>\n",
              "      <th>Net worth/Assets</th>\n",
              "      <th>Long-term fund suitability ratio (A)</th>\n",
              "      <th>...</th>\n",
              "      <th>Current Assets/Total Assets</th>\n",
              "      <th>Cash/Total Assets</th>\n",
              "      <th>Quick Assets/Current Liability</th>\n",
              "      <th>Cash/Current Liability</th>\n",
              "      <th>Current Liability to Assets</th>\n",
              "      <th>Operating Funds to Liability</th>\n",
              "      <th>Inventory/Working Capital</th>\n",
              "      <th>Inventory/Current Liability</th>\n",
              "      <th>Current Liabilities/Liability</th>\n",
              "      <th>Working Capital/Equity</th>\n",
              "      <th>Current Liabilities/Equity</th>\n",
              "      <th>Long-term Liability to Current Assets</th>\n",
              "      <th>Retained Earnings to Total Assets</th>\n",
              "      <th>Total income/Total expense</th>\n",
              "      <th>Total expense/Assets</th>\n",
              "      <th>Current Asset Turnover Rate</th>\n",
              "      <th>Quick Asset Turnover Rate</th>\n",
              "      <th>Working capitcal Turnover Rate</th>\n",
              "      <th>Cash Turnover Rate</th>\n",
              "      <th>Cash Flow to Sales</th>\n",
              "      <th>Fixed Assets to Assets</th>\n",
              "      <th>Current Liability to Liability</th>\n",
              "      <th>Current Liability to Equity</th>\n",
              "      <th>Equity to Long-term Liability</th>\n",
              "      <th>Cash Flow to Total Assets</th>\n",
              "      <th>Cash Flow to Liability</th>\n",
              "      <th>CFO to Assets</th>\n",
              "      <th>Cash Flow to Equity</th>\n",
              "      <th>Current Liability to Current Assets</th>\n",
              "      <th>Liability-Assets Flag</th>\n",
              "      <th>Net Income to Total Assets</th>\n",
              "      <th>Total assets to GNP price</th>\n",
              "      <th>No-credit Interval</th>\n",
              "      <th>Gross Profit to Sales</th>\n",
              "      <th>Net Income to Stockholder's Equity</th>\n",
              "      <th>Liability to Equity</th>\n",
              "      <th>Degree of Financial Leverage (DFL)</th>\n",
              "      <th>Interest Coverage Ratio (Interest expense to EBIT)</th>\n",
              "      <th>Net Income Flag</th>\n",
              "      <th>Equity to Liability</th>\n",
              "    </tr>\n",
              "  </thead>\n",
              "  <tbody>\n",
              "    <tr>\n",
              "      <th>0</th>\n",
              "      <td>1</td>\n",
              "      <td>0.370594</td>\n",
              "      <td>0.424389</td>\n",
              "      <td>0.405750</td>\n",
              "      <td>0.601457</td>\n",
              "      <td>0.601457</td>\n",
              "      <td>0.998969</td>\n",
              "      <td>0.796887</td>\n",
              "      <td>0.808809</td>\n",
              "      <td>0.302646</td>\n",
              "      <td>0.780985</td>\n",
              "      <td>1.256969e-04</td>\n",
              "      <td>0.0</td>\n",
              "      <td>0.458143</td>\n",
              "      <td>0.000725</td>\n",
              "      <td>0.0</td>\n",
              "      <td>0.147950</td>\n",
              "      <td>0.147950</td>\n",
              "      <td>0.147950</td>\n",
              "      <td>0.169141</td>\n",
              "      <td>0.311664</td>\n",
              "      <td>0.017560</td>\n",
              "      <td>0.095921</td>\n",
              "      <td>0.138736</td>\n",
              "      <td>0.022102</td>\n",
              "      <td>0.848195</td>\n",
              "      <td>0.688979</td>\n",
              "      <td>0.688979</td>\n",
              "      <td>0.217535</td>\n",
              "      <td>4.980000e+09</td>\n",
              "      <td>0.000327</td>\n",
              "      <td>0.263100</td>\n",
              "      <td>0.363725</td>\n",
              "      <td>0.002259</td>\n",
              "      <td>0.001208</td>\n",
              "      <td>0.629951</td>\n",
              "      <td>0.021266</td>\n",
              "      <td>0.207576</td>\n",
              "      <td>0.792424</td>\n",
              "      <td>0.005024</td>\n",
              "      <td>...</td>\n",
              "      <td>0.190643</td>\n",
              "      <td>0.004094</td>\n",
              "      <td>0.001997</td>\n",
              "      <td>1.473360e-04</td>\n",
              "      <td>0.147308</td>\n",
              "      <td>0.334015</td>\n",
              "      <td>0.276920</td>\n",
              "      <td>0.001036</td>\n",
              "      <td>0.676269</td>\n",
              "      <td>0.721275</td>\n",
              "      <td>0.339077</td>\n",
              "      <td>0.025592</td>\n",
              "      <td>0.903225</td>\n",
              "      <td>0.002022</td>\n",
              "      <td>0.064856</td>\n",
              "      <td>7.010000e+08</td>\n",
              "      <td>6.550000e+09</td>\n",
              "      <td>0.593831</td>\n",
              "      <td>4.580000e+08</td>\n",
              "      <td>0.671568</td>\n",
              "      <td>0.424206</td>\n",
              "      <td>0.676269</td>\n",
              "      <td>0.339077</td>\n",
              "      <td>0.126549</td>\n",
              "      <td>0.637555</td>\n",
              "      <td>0.458609</td>\n",
              "      <td>0.520382</td>\n",
              "      <td>0.312905</td>\n",
              "      <td>0.118250</td>\n",
              "      <td>0</td>\n",
              "      <td>0.716845</td>\n",
              "      <td>0.009219</td>\n",
              "      <td>0.622879</td>\n",
              "      <td>0.601453</td>\n",
              "      <td>0.827890</td>\n",
              "      <td>0.290202</td>\n",
              "      <td>0.026601</td>\n",
              "      <td>0.564050</td>\n",
              "      <td>1</td>\n",
              "      <td>0.016469</td>\n",
              "    </tr>\n",
              "    <tr>\n",
              "      <th>1</th>\n",
              "      <td>1</td>\n",
              "      <td>0.464291</td>\n",
              "      <td>0.538214</td>\n",
              "      <td>0.516730</td>\n",
              "      <td>0.610235</td>\n",
              "      <td>0.610235</td>\n",
              "      <td>0.998946</td>\n",
              "      <td>0.797380</td>\n",
              "      <td>0.809301</td>\n",
              "      <td>0.303556</td>\n",
              "      <td>0.781506</td>\n",
              "      <td>2.897851e-04</td>\n",
              "      <td>0.0</td>\n",
              "      <td>0.461867</td>\n",
              "      <td>0.000647</td>\n",
              "      <td>0.0</td>\n",
              "      <td>0.182251</td>\n",
              "      <td>0.182251</td>\n",
              "      <td>0.182251</td>\n",
              "      <td>0.208944</td>\n",
              "      <td>0.318137</td>\n",
              "      <td>0.021144</td>\n",
              "      <td>0.093722</td>\n",
              "      <td>0.169918</td>\n",
              "      <td>0.022080</td>\n",
              "      <td>0.848088</td>\n",
              "      <td>0.689693</td>\n",
              "      <td>0.689702</td>\n",
              "      <td>0.217620</td>\n",
              "      <td>6.110000e+09</td>\n",
              "      <td>0.000443</td>\n",
              "      <td>0.264516</td>\n",
              "      <td>0.376709</td>\n",
              "      <td>0.006016</td>\n",
              "      <td>0.004039</td>\n",
              "      <td>0.635172</td>\n",
              "      <td>0.012502</td>\n",
              "      <td>0.171176</td>\n",
              "      <td>0.828824</td>\n",
              "      <td>0.005059</td>\n",
              "      <td>...</td>\n",
              "      <td>0.182419</td>\n",
              "      <td>0.014948</td>\n",
              "      <td>0.004136</td>\n",
              "      <td>1.383910e-03</td>\n",
              "      <td>0.056963</td>\n",
              "      <td>0.341106</td>\n",
              "      <td>0.289642</td>\n",
              "      <td>0.005210</td>\n",
              "      <td>0.308589</td>\n",
              "      <td>0.731975</td>\n",
              "      <td>0.329740</td>\n",
              "      <td>0.023947</td>\n",
              "      <td>0.931065</td>\n",
              "      <td>0.002226</td>\n",
              "      <td>0.025516</td>\n",
              "      <td>1.065198e-04</td>\n",
              "      <td>7.700000e+09</td>\n",
              "      <td>0.593916</td>\n",
              "      <td>2.490000e+09</td>\n",
              "      <td>0.671570</td>\n",
              "      <td>0.468828</td>\n",
              "      <td>0.308589</td>\n",
              "      <td>0.329740</td>\n",
              "      <td>0.120916</td>\n",
              "      <td>0.641100</td>\n",
              "      <td>0.459001</td>\n",
              "      <td>0.567101</td>\n",
              "      <td>0.314163</td>\n",
              "      <td>0.047775</td>\n",
              "      <td>0</td>\n",
              "      <td>0.795297</td>\n",
              "      <td>0.008323</td>\n",
              "      <td>0.623652</td>\n",
              "      <td>0.610237</td>\n",
              "      <td>0.839969</td>\n",
              "      <td>0.283846</td>\n",
              "      <td>0.264577</td>\n",
              "      <td>0.570175</td>\n",
              "      <td>1</td>\n",
              "      <td>0.020794</td>\n",
              "    </tr>\n",
              "    <tr>\n",
              "      <th>2</th>\n",
              "      <td>1</td>\n",
              "      <td>0.426071</td>\n",
              "      <td>0.499019</td>\n",
              "      <td>0.472295</td>\n",
              "      <td>0.601450</td>\n",
              "      <td>0.601364</td>\n",
              "      <td>0.998857</td>\n",
              "      <td>0.796403</td>\n",
              "      <td>0.808388</td>\n",
              "      <td>0.302035</td>\n",
              "      <td>0.780284</td>\n",
              "      <td>2.361297e-04</td>\n",
              "      <td>25500000.0</td>\n",
              "      <td>0.458521</td>\n",
              "      <td>0.000790</td>\n",
              "      <td>0.0</td>\n",
              "      <td>0.177911</td>\n",
              "      <td>0.177911</td>\n",
              "      <td>0.193713</td>\n",
              "      <td>0.180581</td>\n",
              "      <td>0.307102</td>\n",
              "      <td>0.005944</td>\n",
              "      <td>0.092338</td>\n",
              "      <td>0.142803</td>\n",
              "      <td>0.022760</td>\n",
              "      <td>0.848094</td>\n",
              "      <td>0.689463</td>\n",
              "      <td>0.689470</td>\n",
              "      <td>0.217601</td>\n",
              "      <td>7.280000e+09</td>\n",
              "      <td>0.000396</td>\n",
              "      <td>0.264184</td>\n",
              "      <td>0.368913</td>\n",
              "      <td>0.011543</td>\n",
              "      <td>0.005348</td>\n",
              "      <td>0.629631</td>\n",
              "      <td>0.021248</td>\n",
              "      <td>0.207516</td>\n",
              "      <td>0.792484</td>\n",
              "      <td>0.005100</td>\n",
              "      <td>...</td>\n",
              "      <td>0.602806</td>\n",
              "      <td>0.000991</td>\n",
              "      <td>0.006302</td>\n",
              "      <td>5.340000e+09</td>\n",
              "      <td>0.098162</td>\n",
              "      <td>0.336731</td>\n",
              "      <td>0.277456</td>\n",
              "      <td>0.013879</td>\n",
              "      <td>0.446027</td>\n",
              "      <td>0.742729</td>\n",
              "      <td>0.334777</td>\n",
              "      <td>0.003715</td>\n",
              "      <td>0.909903</td>\n",
              "      <td>0.002060</td>\n",
              "      <td>0.021387</td>\n",
              "      <td>1.791094e-03</td>\n",
              "      <td>1.022676e-03</td>\n",
              "      <td>0.594502</td>\n",
              "      <td>7.610000e+08</td>\n",
              "      <td>0.671571</td>\n",
              "      <td>0.276179</td>\n",
              "      <td>0.446027</td>\n",
              "      <td>0.334777</td>\n",
              "      <td>0.117922</td>\n",
              "      <td>0.642765</td>\n",
              "      <td>0.459254</td>\n",
              "      <td>0.538491</td>\n",
              "      <td>0.314515</td>\n",
              "      <td>0.025346</td>\n",
              "      <td>0</td>\n",
              "      <td>0.774670</td>\n",
              "      <td>0.040003</td>\n",
              "      <td>0.623841</td>\n",
              "      <td>0.601449</td>\n",
              "      <td>0.836774</td>\n",
              "      <td>0.290189</td>\n",
              "      <td>0.026555</td>\n",
              "      <td>0.563706</td>\n",
              "      <td>1</td>\n",
              "      <td>0.016474</td>\n",
              "    </tr>\n",
              "    <tr>\n",
              "      <th>3</th>\n",
              "      <td>1</td>\n",
              "      <td>0.399844</td>\n",
              "      <td>0.451265</td>\n",
              "      <td>0.457733</td>\n",
              "      <td>0.583541</td>\n",
              "      <td>0.583541</td>\n",
              "      <td>0.998700</td>\n",
              "      <td>0.796967</td>\n",
              "      <td>0.808966</td>\n",
              "      <td>0.303350</td>\n",
              "      <td>0.781241</td>\n",
              "      <td>1.078888e-04</td>\n",
              "      <td>0.0</td>\n",
              "      <td>0.465705</td>\n",
              "      <td>0.000449</td>\n",
              "      <td>0.0</td>\n",
              "      <td>0.154187</td>\n",
              "      <td>0.154187</td>\n",
              "      <td>0.154187</td>\n",
              "      <td>0.193722</td>\n",
              "      <td>0.321674</td>\n",
              "      <td>0.014368</td>\n",
              "      <td>0.077762</td>\n",
              "      <td>0.148603</td>\n",
              "      <td>0.022046</td>\n",
              "      <td>0.848005</td>\n",
              "      <td>0.689110</td>\n",
              "      <td>0.689110</td>\n",
              "      <td>0.217568</td>\n",
              "      <td>4.880000e+09</td>\n",
              "      <td>0.000382</td>\n",
              "      <td>0.263371</td>\n",
              "      <td>0.384077</td>\n",
              "      <td>0.004194</td>\n",
              "      <td>0.002896</td>\n",
              "      <td>0.630228</td>\n",
              "      <td>0.009572</td>\n",
              "      <td>0.151465</td>\n",
              "      <td>0.848535</td>\n",
              "      <td>0.005047</td>\n",
              "      <td>...</td>\n",
              "      <td>0.225815</td>\n",
              "      <td>0.018851</td>\n",
              "      <td>0.002961</td>\n",
              "      <td>1.010646e-03</td>\n",
              "      <td>0.098715</td>\n",
              "      <td>0.348716</td>\n",
              "      <td>0.276580</td>\n",
              "      <td>0.003540</td>\n",
              "      <td>0.615848</td>\n",
              "      <td>0.729825</td>\n",
              "      <td>0.331509</td>\n",
              "      <td>0.022165</td>\n",
              "      <td>0.906902</td>\n",
              "      <td>0.001831</td>\n",
              "      <td>0.024161</td>\n",
              "      <td>8.140000e+09</td>\n",
              "      <td>6.050000e+09</td>\n",
              "      <td>0.593889</td>\n",
              "      <td>2.030000e+09</td>\n",
              "      <td>0.671519</td>\n",
              "      <td>0.559144</td>\n",
              "      <td>0.615848</td>\n",
              "      <td>0.331509</td>\n",
              "      <td>0.120760</td>\n",
              "      <td>0.579039</td>\n",
              "      <td>0.448518</td>\n",
              "      <td>0.604105</td>\n",
              "      <td>0.302382</td>\n",
              "      <td>0.067250</td>\n",
              "      <td>0</td>\n",
              "      <td>0.739555</td>\n",
              "      <td>0.003252</td>\n",
              "      <td>0.622929</td>\n",
              "      <td>0.583538</td>\n",
              "      <td>0.834697</td>\n",
              "      <td>0.281721</td>\n",
              "      <td>0.026697</td>\n",
              "      <td>0.564663</td>\n",
              "      <td>1</td>\n",
              "      <td>0.023982</td>\n",
              "    </tr>\n",
              "    <tr>\n",
              "      <th>4</th>\n",
              "      <td>1</td>\n",
              "      <td>0.465022</td>\n",
              "      <td>0.538432</td>\n",
              "      <td>0.522298</td>\n",
              "      <td>0.598783</td>\n",
              "      <td>0.598783</td>\n",
              "      <td>0.998973</td>\n",
              "      <td>0.797366</td>\n",
              "      <td>0.809304</td>\n",
              "      <td>0.303475</td>\n",
              "      <td>0.781550</td>\n",
              "      <td>7.890000e+09</td>\n",
              "      <td>0.0</td>\n",
              "      <td>0.462746</td>\n",
              "      <td>0.000686</td>\n",
              "      <td>0.0</td>\n",
              "      <td>0.167502</td>\n",
              "      <td>0.167502</td>\n",
              "      <td>0.167502</td>\n",
              "      <td>0.212537</td>\n",
              "      <td>0.319162</td>\n",
              "      <td>0.029690</td>\n",
              "      <td>0.096898</td>\n",
              "      <td>0.168412</td>\n",
              "      <td>0.022096</td>\n",
              "      <td>0.848258</td>\n",
              "      <td>0.689697</td>\n",
              "      <td>0.689697</td>\n",
              "      <td>0.217626</td>\n",
              "      <td>5.510000e+09</td>\n",
              "      <td>0.000439</td>\n",
              "      <td>0.265218</td>\n",
              "      <td>0.379690</td>\n",
              "      <td>0.006022</td>\n",
              "      <td>0.003727</td>\n",
              "      <td>0.636055</td>\n",
              "      <td>0.005150</td>\n",
              "      <td>0.106509</td>\n",
              "      <td>0.893491</td>\n",
              "      <td>0.005303</td>\n",
              "      <td>...</td>\n",
              "      <td>0.358380</td>\n",
              "      <td>0.014161</td>\n",
              "      <td>0.004275</td>\n",
              "      <td>6.804636e-04</td>\n",
              "      <td>0.110195</td>\n",
              "      <td>0.344639</td>\n",
              "      <td>0.287913</td>\n",
              "      <td>0.004869</td>\n",
              "      <td>0.975007</td>\n",
              "      <td>0.732000</td>\n",
              "      <td>0.330726</td>\n",
              "      <td>0.000000</td>\n",
              "      <td>0.913850</td>\n",
              "      <td>0.002224</td>\n",
              "      <td>0.026385</td>\n",
              "      <td>6.680000e+09</td>\n",
              "      <td>5.050000e+09</td>\n",
              "      <td>0.593915</td>\n",
              "      <td>8.240000e+08</td>\n",
              "      <td>0.671563</td>\n",
              "      <td>0.309555</td>\n",
              "      <td>0.975007</td>\n",
              "      <td>0.330726</td>\n",
              "      <td>0.110933</td>\n",
              "      <td>0.622374</td>\n",
              "      <td>0.454411</td>\n",
              "      <td>0.578469</td>\n",
              "      <td>0.311567</td>\n",
              "      <td>0.047725</td>\n",
              "      <td>0</td>\n",
              "      <td>0.795016</td>\n",
              "      <td>0.003878</td>\n",
              "      <td>0.623521</td>\n",
              "      <td>0.598782</td>\n",
              "      <td>0.839973</td>\n",
              "      <td>0.278514</td>\n",
              "      <td>0.024752</td>\n",
              "      <td>0.575617</td>\n",
              "      <td>1</td>\n",
              "      <td>0.035490</td>\n",
              "    </tr>\n",
              "  </tbody>\n",
              "</table>\n",
              "<p>5 rows × 96 columns</p>\n",
              "</div>"
            ],
            "text/plain": [
              "   Bankrupt?  ...   Equity to Liability\n",
              "0          1  ...              0.016469\n",
              "1          1  ...              0.020794\n",
              "2          1  ...              0.016474\n",
              "3          1  ...              0.023982\n",
              "4          1  ...              0.035490\n",
              "\n",
              "[5 rows x 96 columns]"
            ]
          },
          "metadata": {
            "tags": []
          },
          "execution_count": 50
        }
      ]
    },
    {
      "cell_type": "code",
      "metadata": {
        "scrolled": true,
        "colab": {
          "base_uri": "https://localhost:8080/",
          "height": 204
        },
        "id": "iBtB837IbkIA",
        "outputId": "61e85969-01e1-417b-96b5-f195bae6b92a"
      },
      "source": [
        "df.head()"
      ],
      "execution_count": 51,
      "outputs": [
        {
          "output_type": "execute_result",
          "data": {
            "text/html": [
              "<div>\n",
              "<style scoped>\n",
              "    .dataframe tbody tr th:only-of-type {\n",
              "        vertical-align: middle;\n",
              "    }\n",
              "\n",
              "    .dataframe tbody tr th {\n",
              "        vertical-align: top;\n",
              "    }\n",
              "\n",
              "    .dataframe thead th {\n",
              "        text-align: right;\n",
              "    }\n",
              "</style>\n",
              "<table border=\"1\" class=\"dataframe\">\n",
              "  <thead>\n",
              "    <tr style=\"text-align: right;\">\n",
              "      <th></th>\n",
              "      <th>carat</th>\n",
              "      <th>cut</th>\n",
              "      <th>color</th>\n",
              "      <th>clarity</th>\n",
              "      <th>depth</th>\n",
              "      <th>table</th>\n",
              "      <th>price</th>\n",
              "      <th>x</th>\n",
              "      <th>y</th>\n",
              "      <th>z</th>\n",
              "    </tr>\n",
              "  </thead>\n",
              "  <tbody>\n",
              "    <tr>\n",
              "      <th>0</th>\n",
              "      <td>0.23</td>\n",
              "      <td>Ideal</td>\n",
              "      <td>E</td>\n",
              "      <td>SI2</td>\n",
              "      <td>61.5</td>\n",
              "      <td>55.0</td>\n",
              "      <td>326</td>\n",
              "      <td>3.95</td>\n",
              "      <td>3.98</td>\n",
              "      <td>2.43</td>\n",
              "    </tr>\n",
              "    <tr>\n",
              "      <th>1</th>\n",
              "      <td>0.21</td>\n",
              "      <td>Premium</td>\n",
              "      <td>E</td>\n",
              "      <td>SI1</td>\n",
              "      <td>59.8</td>\n",
              "      <td>61.0</td>\n",
              "      <td>326</td>\n",
              "      <td>3.89</td>\n",
              "      <td>3.84</td>\n",
              "      <td>2.31</td>\n",
              "    </tr>\n",
              "    <tr>\n",
              "      <th>2</th>\n",
              "      <td>0.23</td>\n",
              "      <td>Good</td>\n",
              "      <td>E</td>\n",
              "      <td>VS1</td>\n",
              "      <td>56.9</td>\n",
              "      <td>65.0</td>\n",
              "      <td>327</td>\n",
              "      <td>4.05</td>\n",
              "      <td>4.07</td>\n",
              "      <td>2.31</td>\n",
              "    </tr>\n",
              "    <tr>\n",
              "      <th>3</th>\n",
              "      <td>0.29</td>\n",
              "      <td>Premium</td>\n",
              "      <td>I</td>\n",
              "      <td>VS2</td>\n",
              "      <td>62.4</td>\n",
              "      <td>58.0</td>\n",
              "      <td>334</td>\n",
              "      <td>4.20</td>\n",
              "      <td>4.23</td>\n",
              "      <td>2.63</td>\n",
              "    </tr>\n",
              "    <tr>\n",
              "      <th>4</th>\n",
              "      <td>0.31</td>\n",
              "      <td>Good</td>\n",
              "      <td>J</td>\n",
              "      <td>SI2</td>\n",
              "      <td>63.3</td>\n",
              "      <td>58.0</td>\n",
              "      <td>335</td>\n",
              "      <td>4.34</td>\n",
              "      <td>4.35</td>\n",
              "      <td>2.75</td>\n",
              "    </tr>\n",
              "  </tbody>\n",
              "</table>\n",
              "</div>"
            ],
            "text/plain": [
              "   carat      cut color clarity  depth  table  price     x     y     z\n",
              "0   0.23    Ideal     E     SI2   61.5   55.0    326  3.95  3.98  2.43\n",
              "1   0.21  Premium     E     SI1   59.8   61.0    326  3.89  3.84  2.31\n",
              "2   0.23     Good     E     VS1   56.9   65.0    327  4.05  4.07  2.31\n",
              "3   0.29  Premium     I     VS2   62.4   58.0    334  4.20  4.23  2.63\n",
              "4   0.31     Good     J     SI2   63.3   58.0    335  4.34  4.35  2.75"
            ]
          },
          "metadata": {
            "tags": []
          },
          "execution_count": 51
        }
      ]
    },
    {
      "cell_type": "code",
      "metadata": {
        "colab": {
          "base_uri": "https://localhost:8080/"
        },
        "id": "VGA2dVUwbkIB",
        "outputId": "a6017762-d178-4fc0-ea4d-1b29ef2e255e"
      },
      "source": [
        "for col in df.columns:\n",
        "    print(df[col].value_counts())"
      ],
      "execution_count": 52,
      "outputs": [
        {
          "output_type": "stream",
          "text": [
            "0.30    2604\n",
            "0.31    2249\n",
            "1.01    2242\n",
            "0.70    1981\n",
            "0.32    1840\n",
            "        ... \n",
            "2.70       1\n",
            "3.67       1\n",
            "5.01       1\n",
            "2.77       1\n",
            "3.40       1\n",
            "Name: carat, Length: 273, dtype: int64\n",
            "Ideal        21551\n",
            "Premium      13791\n",
            "Very Good    12082\n",
            "Good          4906\n",
            "Fair          1610\n",
            "Name: cut, dtype: int64\n",
            "G    11292\n",
            "E     9797\n",
            "F     9542\n",
            "H     8304\n",
            "D     6775\n",
            "I     5422\n",
            "J     2808\n",
            "Name: color, dtype: int64\n",
            "SI1     13065\n",
            "VS2     12258\n",
            "SI2      9194\n",
            "VS1      8171\n",
            "VVS2     5066\n",
            "VVS1     3655\n",
            "IF       1790\n",
            "I1        741\n",
            "Name: clarity, dtype: int64\n",
            "62.0    2239\n",
            "61.9    2163\n",
            "61.8    2077\n",
            "62.2    2039\n",
            "62.1    2020\n",
            "        ... \n",
            "72.9       1\n",
            "52.7       1\n",
            "69.1       1\n",
            "70.5       1\n",
            "69.4       1\n",
            "Name: depth, Length: 184, dtype: int64\n",
            "56.0    9881\n",
            "57.0    9724\n",
            "58.0    8369\n",
            "59.0    6572\n",
            "55.0    6268\n",
            "        ... \n",
            "61.3       1\n",
            "61.6       1\n",
            "64.3       1\n",
            "61.8       1\n",
            "63.3       1\n",
            "Name: table, Length: 127, dtype: int64\n",
            "605      132\n",
            "802      127\n",
            "625      126\n",
            "828      125\n",
            "776      124\n",
            "        ... \n",
            "13550      1\n",
            "13014      1\n",
            "6811       1\n",
            "5354       1\n",
            "11600      1\n",
            "Name: price, Length: 11602, dtype: int64\n",
            "4.37     448\n",
            "4.34     437\n",
            "4.33     429\n",
            "4.38     428\n",
            "4.32     425\n",
            "        ... \n",
            "9.66       1\n",
            "10.14      1\n",
            "9.41       1\n",
            "10.23      1\n",
            "10.01      1\n",
            "Name: x, Length: 554, dtype: int64\n",
            "4.34     437\n",
            "4.37     435\n",
            "4.35     425\n",
            "4.33     421\n",
            "4.32     414\n",
            "        ... \n",
            "58.90      1\n",
            "9.20       1\n",
            "9.26       1\n",
            "9.03       1\n",
            "3.75       1\n",
            "Name: y, Length: 552, dtype: int64\n",
            "2.70     767\n",
            "2.69     748\n",
            "2.71     738\n",
            "2.68     730\n",
            "2.72     697\n",
            "        ... \n",
            "5.65       1\n",
            "1.07       1\n",
            "6.31       1\n",
            "5.75       1\n",
            "31.80      1\n",
            "Name: z, Length: 375, dtype: int64\n"
          ],
          "name": "stdout"
        }
      ]
    },
    {
      "cell_type": "code",
      "metadata": {
        "colab": {
          "base_uri": "https://localhost:8080/"
        },
        "id": "4lbQLCTubkIC",
        "outputId": "0141407b-5c51-4622-8d04-1e7772ad4916"
      },
      "source": [
        "df.dtypes"
      ],
      "execution_count": 53,
      "outputs": [
        {
          "output_type": "execute_result",
          "data": {
            "text/plain": [
              "carat       float64\n",
              "cut        category\n",
              "color      category\n",
              "clarity    category\n",
              "depth       float64\n",
              "table       float64\n",
              "price         int64\n",
              "x           float64\n",
              "y           float64\n",
              "z           float64\n",
              "dtype: object"
            ]
          },
          "metadata": {
            "tags": []
          },
          "execution_count": 53
        }
      ]
    },
    {
      "cell_type": "code",
      "metadata": {
        "id": "XHJioymHbkIC"
      },
      "source": [
        "X = df.drop('cut', axis=1)\n",
        "y = df['cut']"
      ],
      "execution_count": 54,
      "outputs": []
    },
    {
      "cell_type": "code",
      "metadata": {
        "scrolled": true,
        "colab": {
          "base_uri": "https://localhost:8080/"
        },
        "id": "ku75df_YbkIC",
        "outputId": "d9eb83e7-7764-48fb-d5e6-e5184a0210e3"
      },
      "source": [
        "df['depth'].dtype == 'float'"
      ],
      "execution_count": 55,
      "outputs": [
        {
          "output_type": "execute_result",
          "data": {
            "text/plain": [
              "True"
            ]
          },
          "metadata": {
            "tags": []
          },
          "execution_count": 55
        }
      ]
    },
    {
      "cell_type": "code",
      "metadata": {
        "scrolled": true,
        "colab": {
          "base_uri": "https://localhost:8080/"
        },
        "id": "MED82kgpbkIC",
        "outputId": "ba962da4-5df1-40df-debc-7004749da1ec"
      },
      "source": [
        "df['color'].dtype"
      ],
      "execution_count": 56,
      "outputs": [
        {
          "output_type": "execute_result",
          "data": {
            "text/plain": [
              "CategoricalDtype(categories=['D', 'E', 'F', 'G', 'H', 'I', 'J'], ordered=False)"
            ]
          },
          "metadata": {
            "tags": []
          },
          "execution_count": 56
        }
      ]
    },
    {
      "cell_type": "markdown",
      "metadata": {
        "id": "6PT2amWdbkID"
      },
      "source": [
        "### Train Test Split"
      ]
    },
    {
      "cell_type": "code",
      "metadata": {
        "id": "5otIEbPpbkID"
      },
      "source": [
        "X_train, X_test, y_train, y_test = train_test_split(X, y, random_state=42, stratify=y)"
      ],
      "execution_count": 57,
      "outputs": []
    },
    {
      "cell_type": "code",
      "metadata": {
        "colab": {
          "base_uri": "https://localhost:8080/"
        },
        "id": "aiTPk3s8bkID",
        "outputId": "9e520567-3f21-4746-ecfd-bbd88934b482"
      },
      "source": [
        "y_train.value_counts()"
      ],
      "execution_count": 58,
      "outputs": [
        {
          "output_type": "execute_result",
          "data": {
            "text/plain": [
              "Ideal        16163\n",
              "Premium      10343\n",
              "Very Good     9061\n",
              "Good          3680\n",
              "Fair          1208\n",
              "Name: cut, dtype: int64"
            ]
          },
          "metadata": {
            "tags": []
          },
          "execution_count": 58
        }
      ]
    },
    {
      "cell_type": "markdown",
      "metadata": {
        "id": "V0jtf07nbkIE"
      },
      "source": [
        "### Separating categorical and numerical features"
      ]
    },
    {
      "cell_type": "code",
      "metadata": {
        "colab": {
          "base_uri": "https://localhost:8080/"
        },
        "id": "XmUfvNBWbkIE",
        "outputId": "40e6b728-f90f-4d73-af9e-fa5af7efc059"
      },
      "source": [
        "cat_cols = [col for col in X_train.columns if X_train[col].dtypes not in ['float64', 'int64']]\n",
        "cat_cols"
      ],
      "execution_count": 59,
      "outputs": [
        {
          "output_type": "execute_result",
          "data": {
            "text/plain": [
              "['color', 'clarity']"
            ]
          },
          "metadata": {
            "tags": []
          },
          "execution_count": 59
        }
      ]
    },
    {
      "cell_type": "code",
      "metadata": {
        "scrolled": true,
        "colab": {
          "base_uri": "https://localhost:8080/"
        },
        "id": "56EMywLFbkIE",
        "outputId": "1164f60e-234b-498a-a116-8c392180b168"
      },
      "source": [
        "num_cols = [col for col in X_train.columns if col not in cat_cols]\n",
        "num_cols"
      ],
      "execution_count": 60,
      "outputs": [
        {
          "output_type": "execute_result",
          "data": {
            "text/plain": [
              "['carat', 'depth', 'table', 'price', 'x', 'y', 'z']"
            ]
          },
          "metadata": {
            "tags": []
          },
          "execution_count": 60
        }
      ]
    },
    {
      "cell_type": "code",
      "metadata": {
        "id": "xbELApb8bkIF"
      },
      "source": [
        "cat_pipe = Pipeline(steps=[\n",
        "    ('imputer', SimpleImputer(strategy='constant', fill_value='missing')), \n",
        "    ('ohe', OneHotEncoder(handle_unknown='ignore', sparse=False))\n",
        "])"
      ],
      "execution_count": 61,
      "outputs": []
    },
    {
      "cell_type": "code",
      "metadata": {
        "id": "WU0ai_hGbkIF"
      },
      "source": [
        "num_pipe = Pipeline(steps=[\n",
        "    ('imputer', SimpleImputer(missing_values=0, strategy='mean')),\n",
        "    ('scaler', StandardScaler())\n",
        "])"
      ],
      "execution_count": 62,
      "outputs": []
    },
    {
      "cell_type": "code",
      "metadata": {
        "id": "EN4laAxgbkIF"
      },
      "source": [
        "preprocess = ColumnTransformer(transformers=[\n",
        "    ('cat_cleaning', cat_pipe, cat_cols),\n",
        "    ('num_cleaning', num_pipe, num_cols)\n",
        "])"
      ],
      "execution_count": 63,
      "outputs": []
    },
    {
      "cell_type": "code",
      "metadata": {
        "colab": {
          "base_uri": "https://localhost:8080/"
        },
        "id": "0voa2a9tbkIF",
        "outputId": "e46eea4c-d270-478f-b9ce-637797393aa3"
      },
      "source": [
        "preprocess"
      ],
      "execution_count": 64,
      "outputs": [
        {
          "output_type": "execute_result",
          "data": {
            "text/plain": [
              "ColumnTransformer(n_jobs=None, remainder='drop', sparse_threshold=0.3,\n",
              "                  transformer_weights=None,\n",
              "                  transformers=[('cat_cleaning',\n",
              "                                 Pipeline(memory=None,\n",
              "                                          steps=[('imputer',\n",
              "                                                  SimpleImputer(add_indicator=False,\n",
              "                                                                copy=True,\n",
              "                                                                fill_value='missing',\n",
              "                                                                missing_values=nan,\n",
              "                                                                strategy='constant',\n",
              "                                                                verbose=0)),\n",
              "                                                 ('ohe',\n",
              "                                                  OneHotEncoder(categories='auto',\n",
              "                                                                drop=None,\n",
              "                                                                dtype=<class 'numpy.floa...\n",
              "                                                                sparse=False))],\n",
              "                                          verbose=False),\n",
              "                                 ['color', 'clarity']),\n",
              "                                ('num_cleaning',\n",
              "                                 Pipeline(memory=None,\n",
              "                                          steps=[('imputer',\n",
              "                                                  SimpleImputer(add_indicator=False,\n",
              "                                                                copy=True,\n",
              "                                                                fill_value=None,\n",
              "                                                                missing_values=0,\n",
              "                                                                strategy='mean',\n",
              "                                                                verbose=0)),\n",
              "                                                 ('scaler',\n",
              "                                                  StandardScaler(copy=True,\n",
              "                                                                 with_mean=True,\n",
              "                                                                 with_std=True))],\n",
              "                                          verbose=False),\n",
              "                                 ['carat', 'depth', 'table', 'price', 'x', 'y',\n",
              "                                  'z'])],\n",
              "                  verbose=False)"
            ]
          },
          "metadata": {
            "tags": []
          },
          "execution_count": 64
        }
      ]
    },
    {
      "cell_type": "code",
      "metadata": {
        "colab": {
          "base_uri": "https://localhost:8080/"
        },
        "id": "GlFEx2f7bkIF",
        "outputId": "d7393ed3-ceb7-4fa2-f788-19ed22b617b1"
      },
      "source": [
        "y_train.value_counts(1)"
      ],
      "execution_count": 65,
      "outputs": [
        {
          "output_type": "execute_result",
          "data": {
            "text/plain": [
              "Ideal        0.399530\n",
              "Premium      0.255667\n",
              "Very Good    0.223977\n",
              "Good         0.090965\n",
              "Fair         0.029860\n",
              "Name: cut, dtype: float64"
            ]
          },
          "metadata": {
            "tags": []
          },
          "execution_count": 65
        }
      ]
    },
    {
      "cell_type": "code",
      "metadata": {
        "colab": {
          "base_uri": "https://localhost:8080/",
          "height": 409
        },
        "id": "wBdylWwGbkIG",
        "outputId": "164ee357-1205-4f08-bb51-d1b4546f277a"
      },
      "source": [
        "our_pipe = Pipeline(steps=[\n",
        "    ('preprocess', preprocess),\n",
        "    ('smote', SMOTE()),\n",
        "    ('rf', RandomForestClassifier(max_depth=9))\n",
        "])"
      ],
      "execution_count": 66,
      "outputs": [
        {
          "output_type": "error",
          "ename": "TypeError",
          "evalue": "ignored",
          "traceback": [
            "\u001b[0;31m---------------------------------------------------------------------------\u001b[0m",
            "\u001b[0;31mTypeError\u001b[0m                                 Traceback (most recent call last)",
            "\u001b[0;32m<ipython-input-66-bb35ec6df0be>\u001b[0m in \u001b[0;36m<module>\u001b[0;34m()\u001b[0m\n\u001b[1;32m      2\u001b[0m     \u001b[0;34m(\u001b[0m\u001b[0;34m'preprocess'\u001b[0m\u001b[0;34m,\u001b[0m \u001b[0mpreprocess\u001b[0m\u001b[0;34m)\u001b[0m\u001b[0;34m,\u001b[0m\u001b[0;34m\u001b[0m\u001b[0;34m\u001b[0m\u001b[0m\n\u001b[1;32m      3\u001b[0m     \u001b[0;34m(\u001b[0m\u001b[0;34m'smote'\u001b[0m\u001b[0;34m,\u001b[0m \u001b[0mSMOTE\u001b[0m\u001b[0;34m(\u001b[0m\u001b[0;34m)\u001b[0m\u001b[0;34m)\u001b[0m\u001b[0;34m,\u001b[0m\u001b[0;34m\u001b[0m\u001b[0;34m\u001b[0m\u001b[0m\n\u001b[0;32m----> 4\u001b[0;31m     \u001b[0;34m(\u001b[0m\u001b[0;34m'rf'\u001b[0m\u001b[0;34m,\u001b[0m \u001b[0mRandomForestClassifier\u001b[0m\u001b[0;34m(\u001b[0m\u001b[0mmax_depth\u001b[0m\u001b[0;34m=\u001b[0m\u001b[0;36m9\u001b[0m\u001b[0;34m)\u001b[0m\u001b[0;34m)\u001b[0m\u001b[0;34m\u001b[0m\u001b[0;34m\u001b[0m\u001b[0m\n\u001b[0m\u001b[1;32m      5\u001b[0m ])\n",
            "\u001b[0;32m/usr/local/lib/python3.7/dist-packages/sklearn/pipeline.py\u001b[0m in \u001b[0;36m__init__\u001b[0;34m(self, steps, memory, verbose)\u001b[0m\n\u001b[1;32m    134\u001b[0m         \u001b[0mself\u001b[0m\u001b[0;34m.\u001b[0m\u001b[0mmemory\u001b[0m \u001b[0;34m=\u001b[0m \u001b[0mmemory\u001b[0m\u001b[0;34m\u001b[0m\u001b[0;34m\u001b[0m\u001b[0m\n\u001b[1;32m    135\u001b[0m         \u001b[0mself\u001b[0m\u001b[0;34m.\u001b[0m\u001b[0mverbose\u001b[0m \u001b[0;34m=\u001b[0m \u001b[0mverbose\u001b[0m\u001b[0;34m\u001b[0m\u001b[0;34m\u001b[0m\u001b[0m\n\u001b[0;32m--> 136\u001b[0;31m         \u001b[0mself\u001b[0m\u001b[0;34m.\u001b[0m\u001b[0m_validate_steps\u001b[0m\u001b[0;34m(\u001b[0m\u001b[0;34m)\u001b[0m\u001b[0;34m\u001b[0m\u001b[0;34m\u001b[0m\u001b[0m\n\u001b[0m\u001b[1;32m    137\u001b[0m \u001b[0;34m\u001b[0m\u001b[0m\n\u001b[1;32m    138\u001b[0m     \u001b[0;32mdef\u001b[0m \u001b[0mget_params\u001b[0m\u001b[0;34m(\u001b[0m\u001b[0mself\u001b[0m\u001b[0;34m,\u001b[0m \u001b[0mdeep\u001b[0m\u001b[0;34m=\u001b[0m\u001b[0;32mTrue\u001b[0m\u001b[0;34m)\u001b[0m\u001b[0;34m:\u001b[0m\u001b[0;34m\u001b[0m\u001b[0;34m\u001b[0m\u001b[0m\n",
            "\u001b[0;32m/usr/local/lib/python3.7/dist-packages/sklearn/pipeline.py\u001b[0m in \u001b[0;36m_validate_steps\u001b[0;34m(self)\u001b[0m\n\u001b[1;32m    182\u001b[0m                                 \u001b[0;34m\"transformers and implement fit and transform \"\u001b[0m\u001b[0;34m\u001b[0m\u001b[0;34m\u001b[0m\u001b[0m\n\u001b[1;32m    183\u001b[0m                                 \u001b[0;34m\"or be the string 'passthrough' \"\u001b[0m\u001b[0;34m\u001b[0m\u001b[0;34m\u001b[0m\u001b[0m\n\u001b[0;32m--> 184\u001b[0;31m                                 \"'%s' (type %s) doesn't\" % (t, type(t)))\n\u001b[0m\u001b[1;32m    185\u001b[0m \u001b[0;34m\u001b[0m\u001b[0m\n\u001b[1;32m    186\u001b[0m         \u001b[0;31m# We allow last estimator to be None as an identity transformation\u001b[0m\u001b[0;34m\u001b[0m\u001b[0;34m\u001b[0m\u001b[0;34m\u001b[0m\u001b[0m\n",
            "\u001b[0;31mTypeError\u001b[0m: All intermediate steps should be transformers and implement fit and transform or be the string 'passthrough' 'SMOTE(k_neighbors=5, kind='deprecated', m_neighbors='deprecated', n_jobs=1,\n      out_step='deprecated', random_state=None, ratio=None,\n      sampling_strategy='auto', svm_estimator='deprecated')' (type <class 'imblearn.over_sampling._smote.SMOTE'>) doesn't"
          ]
        }
      ]
    },
    {
      "cell_type": "markdown",
      "metadata": {
        "id": "qat_eAmdbkIG"
      },
      "source": [
        "# OH NO!! IT BROKE!!!"
      ]
    },
    {
      "cell_type": "code",
      "metadata": {
        "id": "KpOghqocbkIG"
      },
      "source": [
        ""
      ],
      "execution_count": 66,
      "outputs": []
    },
    {
      "cell_type": "code",
      "metadata": {
        "id": "wZdKuTU7bkIG"
      },
      "source": [
        ""
      ],
      "execution_count": 66,
      "outputs": []
    },
    {
      "cell_type": "code",
      "metadata": {
        "id": "WfbSbZiBbkIG"
      },
      "source": [
        ""
      ],
      "execution_count": 66,
      "outputs": []
    },
    {
      "cell_type": "code",
      "metadata": {
        "id": "jZ-6wjz4bkIG"
      },
      "source": [
        ""
      ],
      "execution_count": 66,
      "outputs": []
    },
    {
      "cell_type": "code",
      "metadata": {
        "id": "Ge5uF6jMbkIH"
      },
      "source": [
        ""
      ],
      "execution_count": 66,
      "outputs": []
    },
    {
      "cell_type": "code",
      "metadata": {
        "id": "t-53fiyFbkIH"
      },
      "source": [
        ""
      ],
      "execution_count": 66,
      "outputs": []
    },
    {
      "cell_type": "code",
      "metadata": {
        "id": "fRKk8gfPbkIH"
      },
      "source": [
        ""
      ],
      "execution_count": 66,
      "outputs": []
    },
    {
      "cell_type": "code",
      "metadata": {
        "id": "jzCoSjZ-bkIH"
      },
      "source": [
        ""
      ],
      "execution_count": 66,
      "outputs": []
    },
    {
      "cell_type": "code",
      "metadata": {
        "id": "6jdCdAaZbkIH"
      },
      "source": [
        "# from imblearn.pipeline import Pipeline as imbpipeline\n",
        "\n",
        "pipe_model = imbpipeline(steps=[\n",
        "    ('preprocess', preprocess),\n",
        "    ('smote', SMOTE()),\n",
        "    ('rf', RandomForestClassifier())\n",
        "])"
      ],
      "execution_count": 67,
      "outputs": []
    },
    {
      "cell_type": "code",
      "metadata": {
        "colab": {
          "base_uri": "https://localhost:8080/"
        },
        "id": "yPMSgkYGbkIH",
        "outputId": "f7b028a2-271c-4422-d789-1e7a285d301b"
      },
      "source": [
        "pipe_model.fit(X_train, y_train)\n",
        "\n",
        "pipe_model.score(X_train, y_train)"
      ],
      "execution_count": 68,
      "outputs": [
        {
          "output_type": "execute_result",
          "data": {
            "text/plain": [
              "0.999901124706464"
            ]
          },
          "metadata": {
            "tags": []
          },
          "execution_count": 68
        }
      ]
    },
    {
      "cell_type": "code",
      "metadata": {
        "id": "LVZZzDRUbkIH"
      },
      "source": [
        "def evaluate_model(model, X, y):\n",
        "    \"\"\"\n",
        "    Definition:\n",
        "    Prints classification report and plots a confusion matrix of a model's \n",
        "    performance.\n",
        "    \n",
        "    Args:\n",
        "    model - Model. Can also be a pipeline object.\n",
        "    X - Features.\n",
        "    y - Target.\n",
        "    \n",
        "    Returns:\n",
        "    prints classification report and plots a confusion matrix\n",
        "    \"\"\"\n",
        "    # creating predictions\n",
        "    y_pred = model.predict(X)\n",
        "    \n",
        "    # printing classification report\n",
        "    print(classification_report(y, y_pred))\n",
        "    \n",
        "    # plotting confusion matrix\n",
        "    plot_confusion_matrix(model, X, y,cmap=\"Blues\")\n",
        "    \n",
        "    "
      ],
      "execution_count": 69,
      "outputs": []
    },
    {
      "cell_type": "code",
      "metadata": {
        "scrolled": false,
        "colab": {
          "base_uri": "https://localhost:8080/",
          "height": 485
        },
        "id": "85_Std4zbkII",
        "outputId": "28574a7d-2be9-4cbe-a79b-b7a03a13554f"
      },
      "source": [
        "evaluate_model(pipe_model, X_train, y_train)"
      ],
      "execution_count": 70,
      "outputs": [
        {
          "output_type": "stream",
          "text": [
            "              precision    recall  f1-score   support\n",
            "\n",
            "        Fair       1.00      1.00      1.00      1208\n",
            "        Good       1.00      1.00      1.00      3680\n",
            "       Ideal       1.00      1.00      1.00     16163\n",
            "     Premium       1.00      1.00      1.00     10343\n",
            "   Very Good       1.00      1.00      1.00      9061\n",
            "\n",
            "    accuracy                           1.00     40455\n",
            "   macro avg       1.00      1.00      1.00     40455\n",
            "weighted avg       1.00      1.00      1.00     40455\n",
            "\n"
          ],
          "name": "stdout"
        },
        {
          "output_type": "display_data",
          "data": {
            "image/png": "[encoded data removed]",
            "text/plain": [
              "<Figure size 432x288 with 2 Axes>"
            ]
          },
          "metadata": {
            "tags": [],
            "needs_background": "light"
          }
        }
      ]
    },
    {
      "cell_type": "code",
      "metadata": {
        "colab": {
          "base_uri": "https://localhost:8080/",
          "height": 483
        },
        "id": "etVryT6dbkII",
        "outputId": "e6c689e3-d5c0-4d9a-d66c-76bef64a14b6"
      },
      "source": [
        "evaluate_model(pipe_model, X_test, y_test)"
      ],
      "execution_count": 71,
      "outputs": [
        {
          "output_type": "stream",
          "text": [
            "              precision    recall  f1-score   support\n",
            "\n",
            "        Fair       0.86      0.90      0.88       402\n",
            "        Good       0.69      0.74      0.71      1226\n",
            "       Ideal       0.83      0.90      0.86      5388\n",
            "     Premium       0.73      0.76      0.75      3448\n",
            "   Very Good       0.63      0.47      0.54      3021\n",
            "\n",
            "    accuracy                           0.76     13485\n",
            "   macro avg       0.75      0.76      0.75     13485\n",
            "weighted avg       0.75      0.76      0.75     13485\n",
            "\n"
          ],
          "name": "stdout"
        },
        {
          "output_type": "display_data",
          "data": {
            "image/png": "[encoded data removed]",
            "text/plain": [
              "<Figure size 432x288 with 2 Axes>"
            ]
          },
          "metadata": {
            "tags": [],
            "needs_background": "light"
          }
        }
      ]
    },
    {
      "cell_type": "markdown",
      "metadata": {
        "id": "KZYl8S0pbkII"
      },
      "source": [
        "### Cross Validation"
      ]
    },
    {
      "cell_type": "code",
      "metadata": {
        "id": "5YOPLs84bkII"
      },
      "source": [
        "# def find_overfit(estimator, X, y, n_runs=100):\n",
        "#     train_scores = []\n",
        "#     test_scores = []\n",
        "    \n",
        "#     for i in range(n_runs):\n",
        "#         rando = np.random.randint(1, 5000)\n",
        "#         X_tr, X_te, y_tr, y_te = train_test_split(X, y, random_state=rando)\n",
        "        \n",
        "#         cv_dict = cross_validate(estimator, X_tr, y_tr, return_train_score=True)\n",
        "#         train_scores += cv_dict['train_score'].tolist()\n",
        "#         test_scores += cv_dict['test_score'].tolist()\n",
        "    \n",
        "#     #Calculating bin size\n",
        "#     bins = int(np.sqrt(len(train_scores)))\n",
        "#     # Plotting distributions of both train and test scores\n",
        "#     plt.figure(figsize=(10, 10))\n",
        "#     plt.hist(train_scores, bins=bins, alpha=0.5, label='train scores')\n",
        "#     plt.hist(test_scores, bins=bins, alpha=0.5, label='test scores')\n",
        "#     plt.legend(loc='upper right')\n",
        "#     plt.show()\n",
        "    \n",
        "#     avg_tr_score = sum(train_scores)/len(train_scores)\n",
        "#     avg_te_score = sum(test_scores)/len(test_scores)\n",
        "#     p_val = ttest_ind(equal_var=False, a=train_scores, b=test_scores)\n",
        "    \n",
        "#     print(p_val, avg_tr_score, avg_te_score)\n",
        "    "
      ],
      "execution_count": 72,
      "outputs": []
    },
    {
      "cell_type": "code",
      "metadata": {
        "scrolled": false,
        "id": "jlNJjjf5bkIJ"
      },
      "source": [
        "#find_overfit(pipe_model, X, y, n_runs=10)"
      ],
      "execution_count": 73,
      "outputs": []
    },
    {
      "cell_type": "markdown",
      "metadata": {
        "id": "u29tj6K0bkIJ"
      },
      "source": [
        "### Creating param grid for gridsearch"
      ]
    },
    {
      "cell_type": "code",
      "metadata": {
        "id": "3QSECmUYbkIJ"
      },
      "source": [
        "param_grid = {\n",
        "    'rf__n_estimators': [50, 100],\n",
        "    'rf__max_depth': [5, 9]\n",
        "}"
      ],
      "execution_count": 74,
      "outputs": []
    },
    {
      "cell_type": "code",
      "metadata": {
        "id": "0k3HXceubkIJ"
      },
      "source": [
        "grid = GridSearchCV(pipe_model, param_grid, scoring='f1_macro', verbose=2)"
      ],
      "execution_count": 75,
      "outputs": []
    },
    {
      "cell_type": "code",
      "metadata": {
        "colab": {
          "base_uri": "https://localhost:8080/"
        },
        "id": "_ArY6l40bkIJ",
        "outputId": "77d54757-1b24-4e8e-bd4e-dd1ce0fd2887"
      },
      "source": [
        "start = time.time()\n",
        "grid.fit(X_train, y_train)\n",
        "print(time.time() - start, \"seconds\")"
      ],
      "execution_count": 76,
      "outputs": [
        {
          "output_type": "stream",
          "text": [
            "Fitting 5 folds for each of 4 candidates, totalling 20 fits\n",
            "[CV] rf__max_depth=5, rf__n_estimators=50 ............................\n"
          ],
          "name": "stdout"
        },
        {
          "output_type": "stream",
          "text": [
            "[Parallel(n_jobs=1)]: Using backend SequentialBackend with 1 concurrent workers.\n"
          ],
          "name": "stderr"
        },
        {
          "output_type": "stream",
          "text": [
            "[CV] ............. rf__max_depth=5, rf__n_estimators=50, total=   3.4s\n",
            "[CV] rf__max_depth=5, rf__n_estimators=50 ............................\n"
          ],
          "name": "stdout"
        },
        {
          "output_type": "stream",
          "text": [
            "[Parallel(n_jobs=1)]: Done   1 out of   1 | elapsed:    3.4s remaining:    0.0s\n"
          ],
          "name": "stderr"
        },
        {
          "output_type": "stream",
          "text": [
            "[CV] ............. rf__max_depth=5, rf__n_estimators=50, total=   3.3s\n",
            "[CV] rf__max_depth=5, rf__n_estimators=50 ............................\n",
            "[CV] ............. rf__max_depth=5, rf__n_estimators=50, total=   3.2s\n",
            "[CV] rf__max_depth=5, rf__n_estimators=50 ............................\n",
            "[CV] ............. rf__max_depth=5, rf__n_estimators=50, total=   3.3s\n",
            "[CV] rf__max_depth=5, rf__n_estimators=50 ............................\n",
            "[CV] ............. rf__max_depth=5, rf__n_estimators=50, total=   3.2s\n",
            "[CV] rf__max_depth=5, rf__n_estimators=100 ...........................\n",
            "[CV] ............ rf__max_depth=5, rf__n_estimators=100, total=   5.3s\n",
            "[CV] rf__max_depth=5, rf__n_estimators=100 ...........................\n",
            "[CV] ............ rf__max_depth=5, rf__n_estimators=100, total=   5.3s\n",
            "[CV] rf__max_depth=5, rf__n_estimators=100 ...........................\n",
            "[CV] ............ rf__max_depth=5, rf__n_estimators=100, total=   5.4s\n",
            "[CV] rf__max_depth=5, rf__n_estimators=100 ...........................\n",
            "[CV] ............ rf__max_depth=5, rf__n_estimators=100, total=   5.5s\n",
            "[CV] rf__max_depth=5, rf__n_estimators=100 ...........................\n",
            "[CV] ............ rf__max_depth=5, rf__n_estimators=100, total=   5.7s\n",
            "[CV] rf__max_depth=9, rf__n_estimators=50 ............................\n",
            "[CV] ............. rf__max_depth=9, rf__n_estimators=50, total=   4.7s\n",
            "[CV] rf__max_depth=9, rf__n_estimators=50 ............................\n",
            "[CV] ............. rf__max_depth=9, rf__n_estimators=50, total=   4.8s\n",
            "[CV] rf__max_depth=9, rf__n_estimators=50 ............................\n",
            "[CV] ............. rf__max_depth=9, rf__n_estimators=50, total=   4.6s\n",
            "[CV] rf__max_depth=9, rf__n_estimators=50 ............................\n",
            "[CV] ............. rf__max_depth=9, rf__n_estimators=50, total=   4.5s\n",
            "[CV] rf__max_depth=9, rf__n_estimators=50 ............................\n",
            "[CV] ............. rf__max_depth=9, rf__n_estimators=50, total=   4.6s\n",
            "[CV] rf__max_depth=9, rf__n_estimators=100 ...........................\n",
            "[CV] ............ rf__max_depth=9, rf__n_estimators=100, total=   7.9s\n",
            "[CV] rf__max_depth=9, rf__n_estimators=100 ...........................\n",
            "[CV] ............ rf__max_depth=9, rf__n_estimators=100, total=   7.8s\n",
            "[CV] rf__max_depth=9, rf__n_estimators=100 ...........................\n",
            "[CV] ............ rf__max_depth=9, rf__n_estimators=100, total=   7.8s\n",
            "[CV] rf__max_depth=9, rf__n_estimators=100 ...........................\n",
            "[CV] ............ rf__max_depth=9, rf__n_estimators=100, total=   7.4s\n",
            "[CV] rf__max_depth=9, rf__n_estimators=100 ...........................\n",
            "[CV] ............ rf__max_depth=9, rf__n_estimators=100, total=   7.4s\n"
          ],
          "name": "stdout"
        },
        {
          "output_type": "stream",
          "text": [
            "[Parallel(n_jobs=1)]: Done  20 out of  20 | elapsed:  1.8min finished\n"
          ],
          "name": "stderr"
        },
        {
          "output_type": "stream",
          "text": [
            "110.55713701248169 seconds\n"
          ],
          "name": "stdout"
        }
      ]
    },
    {
      "cell_type": "code",
      "metadata": {
        "id": "y4vh-K1FbkIK",
        "colab": {
          "base_uri": "https://localhost:8080/"
        },
        "outputId": "fffb3147-59a5-41f6-ce4c-a0ea002b9583"
      },
      "source": [
        "grid.best_estimator_"
      ],
      "execution_count": 77,
      "outputs": [
        {
          "output_type": "execute_result",
          "data": {
            "text/plain": [
              "Pipeline(memory=None,\n",
              "         steps=[('preprocess',\n",
              "                 ColumnTransformer(n_jobs=None, remainder='drop',\n",
              "                                   sparse_threshold=0.3,\n",
              "                                   transformer_weights=None,\n",
              "                                   transformers=[('cat_cleaning',\n",
              "                                                  Pipeline(memory=None,\n",
              "                                                           steps=[('imputer',\n",
              "                                                                   SimpleImputer(add_indicator=False,\n",
              "                                                                                 copy=True,\n",
              "                                                                                 fill_value='missing',\n",
              "                                                                                 missing_values=nan,\n",
              "                                                                                 strategy='constant',\n",
              "                                                                                 verbose=0)),\n",
              "                                                                  ('ohe',\n",
              "                                                                   OneHotEncoder(categorie...\n",
              "                 RandomForestClassifier(bootstrap=True, ccp_alpha=0.0,\n",
              "                                        class_weight=None, criterion='gini',\n",
              "                                        max_depth=9, max_features='auto',\n",
              "                                        max_leaf_nodes=None, max_samples=None,\n",
              "                                        min_impurity_decrease=0.0,\n",
              "                                        min_impurity_split=None,\n",
              "                                        min_samples_leaf=1, min_samples_split=2,\n",
              "                                        min_weight_fraction_leaf=0.0,\n",
              "                                        n_estimators=50, n_jobs=None,\n",
              "                                        oob_score=False, random_state=None,\n",
              "                                        verbose=0, warm_start=False))],\n",
              "         verbose=False)"
            ]
          },
          "metadata": {
            "tags": []
          },
          "execution_count": 77
        }
      ]
    },
    {
      "cell_type": "code",
      "metadata": {
        "id": "0RaBZmocbkIK"
      },
      "source": [
        "best_model = grid.best_estimator_"
      ],
      "execution_count": 78,
      "outputs": []
    },
    {
      "cell_type": "code",
      "metadata": {
        "scrolled": true,
        "colab": {
          "base_uri": "https://localhost:8080/",
          "height": 483
        },
        "id": "vdx70rrNbkIK",
        "outputId": "7832821c-0a73-49d9-d2e6-fafef9981185"
      },
      "source": [
        "evaluate_model(best_model, X_train, y_train)"
      ],
      "execution_count": 79,
      "outputs": [
        {
          "output_type": "stream",
          "text": [
            "              precision    recall  f1-score   support\n",
            "\n",
            "        Fair       0.88      0.89      0.89      1208\n",
            "        Good       0.57      0.79      0.66      3680\n",
            "       Ideal       0.80      0.93      0.86     16163\n",
            "     Premium       0.65      0.83      0.73     10343\n",
            "   Very Good       0.74      0.19      0.30      9061\n",
            "\n",
            "    accuracy                           0.72     40455\n",
            "   macro avg       0.73      0.73      0.69     40455\n",
            "weighted avg       0.73      0.72      0.69     40455\n",
            "\n"
          ],
          "name": "stdout"
        },
        {
          "output_type": "display_data",
          "data": {
            "image/png": "[encoded data removed]",
            "text/plain": [
              "<Figure size 432x288 with 2 Axes>"
            ]
          },
          "metadata": {
            "tags": [],
            "needs_background": "light"
          }
        }
      ]
    },
    {
      "cell_type": "code",
      "metadata": {
        "scrolled": true,
        "colab": {
          "base_uri": "https://localhost:8080/",
          "height": 483
        },
        "id": "Hi13h8DcbkIK",
        "outputId": "a1d828ff-6c49-4162-ed9c-2cdbe2a4c50a"
      },
      "source": [
        "evaluate_model(best_model, X_test, y_test)"
      ],
      "execution_count": 80,
      "outputs": [
        {
          "output_type": "stream",
          "text": [
            "              precision    recall  f1-score   support\n",
            "\n",
            "        Fair       0.86      0.86      0.86       402\n",
            "        Good       0.54      0.75      0.63      1226\n",
            "       Ideal       0.80      0.92      0.86      5388\n",
            "     Premium       0.64      0.82      0.72      3448\n",
            "   Very Good       0.68      0.16      0.26      3021\n",
            "\n",
            "    accuracy                           0.71     13485\n",
            "   macro avg       0.70      0.70      0.67     13485\n",
            "weighted avg       0.71      0.71      0.67     13485\n",
            "\n"
          ],
          "name": "stdout"
        },
        {
          "output_type": "display_data",
          "data": {
            "image/png": "[encoded data removed]",
            "text/plain": [
              "<Figure size 432x288 with 2 Axes>"
            ]
          },
          "metadata": {
            "tags": [],
            "needs_background": "light"
          }
        }
      ]
    },
    {
      "cell_type": "code",
      "metadata": {
        "scrolled": true,
        "colab": {
          "base_uri": "https://localhost:8080/"
        },
        "id": "M8qsbyGtbkIL",
        "outputId": "04fef1bf-511b-4b93-fc46-b1f357d10a54"
      },
      "source": [
        "print(best_model.named_steps['rf'].feature_importances_)"
      ],
      "execution_count": 81,
      "outputs": [
        {
          "output_type": "stream",
          "text": [
            "[0.00122581 0.00202576 0.00305932 0.00147894 0.00330622 0.00111824\n",
            " 0.00089016 0.01661961 0.00163557 0.00420231 0.00674973 0.00191641\n",
            " 0.00338608 0.00220814 0.00328006 0.03852384 0.50324335 0.22968303\n",
            " 0.02824037 0.04897667 0.04147076 0.05675962]\n"
          ],
          "name": "stdout"
        }
      ]
    },
    {
      "cell_type": "code",
      "metadata": {
        "id": "gWwKKmeobkIL"
      },
      "source": [
        "raise Exception('Stop here')"
      ],
      "execution_count": null,
      "outputs": []
    },
    {
      "cell_type": "code",
      "metadata": {
        "id": "OWy3avyybkIL"
      },
      "source": [
        "# Inspect our 'best_model' to see how to access the good stuff inside\n",
        "best_model"
      ],
      "execution_count": null,
      "outputs": []
    },
    {
      "cell_type": "code",
      "metadata": {
        "id": "ChBaAwSwbkIL"
      },
      "source": [
        "best_model. ..."
      ],
      "execution_count": null,
      "outputs": []
    },
    {
      "cell_type": "code",
      "metadata": {
        "id": "blLnzET8bkIL"
      },
      "source": [
        ""
      ],
      "execution_count": null,
      "outputs": []
    },
    {
      "cell_type": "code",
      "metadata": {
        "id": "x1h3hkepbkIL"
      },
      "source": [
        ""
      ],
      "execution_count": null,
      "outputs": []
    },
    {
      "cell_type": "code",
      "metadata": {
        "id": "a988JueZbkIM"
      },
      "source": [
        ""
      ],
      "execution_count": null,
      "outputs": []
    },
    {
      "cell_type": "code",
      "metadata": {
        "id": "jdLevf9-bkIM"
      },
      "source": [
        ""
      ],
      "execution_count": null,
      "outputs": []
    },
    {
      "cell_type": "code",
      "metadata": {
        "id": "Z5XmjOSzbkIM"
      },
      "source": [
        ""
      ],
      "execution_count": null,
      "outputs": []
    },
    {
      "cell_type": "code",
      "metadata": {
        "id": "Diz-uBHBbkIM"
      },
      "source": [
        ""
      ],
      "execution_count": null,
      "outputs": []
    },
    {
      "cell_type": "code",
      "metadata": {
        "scrolled": true,
        "id": "uARa0hEsbkIM",
        "outputId": "63a19ac9-981d-4a31-cda3-6cd7b1d2b1a7"
      },
      "source": [
        "cat_ohe_cols = best_model.named_steps['preprocess'].named_transformers_['cat_cleaning'].named_steps['ohe'].get_feature_names(cat_cols).tolist()\n",
        "cat_ohe_cols"
      ],
      "execution_count": null,
      "outputs": [
        {
          "output_type": "execute_result",
          "data": {
            "text/plain": [
              "['color_D',\n",
              " 'color_E',\n",
              " 'color_F',\n",
              " 'color_G',\n",
              " 'color_H',\n",
              " 'color_I',\n",
              " 'color_J',\n",
              " 'clarity_I1',\n",
              " 'clarity_IF',\n",
              " 'clarity_SI1',\n",
              " 'clarity_SI2',\n",
              " 'clarity_VS1',\n",
              " 'clarity_VS2',\n",
              " 'clarity_VVS1',\n",
              " 'clarity_VVS2']"
            ]
          },
          "metadata": {
            "tags": []
          },
          "execution_count": 41
        }
      ]
    },
    {
      "cell_type": "code",
      "metadata": {
        "id": "kCXRjHSjbkIM",
        "outputId": "24ccdd28-a0f8-46f7-cf4d-2b42456151a4"
      },
      "source": [
        "# remembering we save our num_cols in a variable\n",
        "num_cols"
      ],
      "execution_count": null,
      "outputs": [
        {
          "output_type": "execute_result",
          "data": {
            "text/plain": [
              "['carat', 'depth', 'table', 'price', 'x', 'y', 'z']"
            ]
          },
          "metadata": {
            "tags": []
          },
          "execution_count": 42
        }
      ]
    },
    {
      "cell_type": "code",
      "metadata": {
        "id": "Z6i5JktwbkIM",
        "outputId": "3111e22f-f733-41e3-df16-b4e0271b0e3e"
      },
      "source": [
        "feat_cols = num_cols + cat_ohe_cols\n",
        "feat_cols"
      ],
      "execution_count": null,
      "outputs": [
        {
          "output_type": "execute_result",
          "data": {
            "text/plain": [
              "['carat',\n",
              " 'depth',\n",
              " 'table',\n",
              " 'price',\n",
              " 'x',\n",
              " 'y',\n",
              " 'z',\n",
              " 'color_D',\n",
              " 'color_E',\n",
              " 'color_F',\n",
              " 'color_G',\n",
              " 'color_H',\n",
              " 'color_I',\n",
              " 'color_J',\n",
              " 'clarity_I1',\n",
              " 'clarity_IF',\n",
              " 'clarity_SI1',\n",
              " 'clarity_SI2',\n",
              " 'clarity_VS1',\n",
              " 'clarity_VS2',\n",
              " 'clarity_VVS1',\n",
              " 'clarity_VVS2']"
            ]
          },
          "metadata": {
            "tags": []
          },
          "execution_count": 50
        }
      ]
    },
    {
      "cell_type": "code",
      "metadata": {
        "scrolled": true,
        "id": "MXwwYOHgbkIN",
        "outputId": "419a02a2-815f-4422-c38e-33e2c137d669"
      },
      "source": [
        "X_train_tf = pd.DataFrame(best_model.named_steps['preprocess'].fit_transform(X_train), columns=feat_cols)\n",
        "X_train_tf.head()"
      ],
      "execution_count": null,
      "outputs": [
        {
          "output_type": "execute_result",
          "data": {
            "text/html": [
              "<div>\n",
              "<style scoped>\n",
              "    .dataframe tbody tr th:only-of-type {\n",
              "        vertical-align: middle;\n",
              "    }\n",
              "\n",
              "    .dataframe tbody tr th {\n",
              "        vertical-align: top;\n",
              "    }\n",
              "\n",
              "    .dataframe thead th {\n",
              "        text-align: right;\n",
              "    }\n",
              "</style>\n",
              "<table border=\"1\" class=\"dataframe\">\n",
              "  <thead>\n",
              "    <tr style=\"text-align: right;\">\n",
              "      <th></th>\n",
              "      <th>carat</th>\n",
              "      <th>depth</th>\n",
              "      <th>table</th>\n",
              "      <th>price</th>\n",
              "      <th>x</th>\n",
              "      <th>y</th>\n",
              "      <th>z</th>\n",
              "      <th>color_D</th>\n",
              "      <th>color_E</th>\n",
              "      <th>color_F</th>\n",
              "      <th>...</th>\n",
              "      <th>color_I</th>\n",
              "      <th>color_J</th>\n",
              "      <th>clarity_I1</th>\n",
              "      <th>clarity_IF</th>\n",
              "      <th>clarity_SI1</th>\n",
              "      <th>clarity_SI2</th>\n",
              "      <th>clarity_VS1</th>\n",
              "      <th>clarity_VS2</th>\n",
              "      <th>clarity_VVS1</th>\n",
              "      <th>clarity_VVS2</th>\n",
              "    </tr>\n",
              "  </thead>\n",
              "  <tbody>\n",
              "    <tr>\n",
              "      <th>0</th>\n",
              "      <td>0.0</td>\n",
              "      <td>0.0</td>\n",
              "      <td>1.0</td>\n",
              "      <td>0.0</td>\n",
              "      <td>0.0</td>\n",
              "      <td>0.0</td>\n",
              "      <td>0.0</td>\n",
              "      <td>0.0</td>\n",
              "      <td>0.0</td>\n",
              "      <td>1.0</td>\n",
              "      <td>...</td>\n",
              "      <td>0.0</td>\n",
              "      <td>0.0</td>\n",
              "      <td>0.0</td>\n",
              "      <td>0.524245</td>\n",
              "      <td>-0.803088</td>\n",
              "      <td>0.693520</td>\n",
              "      <td>0.407024</td>\n",
              "      <td>0.688573</td>\n",
              "      <td>0.731092</td>\n",
              "      <td>0.588038</td>\n",
              "    </tr>\n",
              "    <tr>\n",
              "      <th>1</th>\n",
              "      <td>0.0</td>\n",
              "      <td>0.0</td>\n",
              "      <td>0.0</td>\n",
              "      <td>0.0</td>\n",
              "      <td>0.0</td>\n",
              "      <td>1.0</td>\n",
              "      <td>0.0</td>\n",
              "      <td>0.0</td>\n",
              "      <td>0.0</td>\n",
              "      <td>0.0</td>\n",
              "      <td>...</td>\n",
              "      <td>0.0</td>\n",
              "      <td>0.0</td>\n",
              "      <td>0.0</td>\n",
              "      <td>0.986767</td>\n",
              "      <td>0.171312</td>\n",
              "      <td>1.141859</td>\n",
              "      <td>0.219612</td>\n",
              "      <td>1.045385</td>\n",
              "      <td>0.998824</td>\n",
              "      <td>1.026690</td>\n",
              "    </tr>\n",
              "    <tr>\n",
              "      <th>2</th>\n",
              "      <td>0.0</td>\n",
              "      <td>0.0</td>\n",
              "      <td>0.0</td>\n",
              "      <td>1.0</td>\n",
              "      <td>0.0</td>\n",
              "      <td>0.0</td>\n",
              "      <td>0.0</td>\n",
              "      <td>0.0</td>\n",
              "      <td>0.0</td>\n",
              "      <td>0.0</td>\n",
              "      <td>...</td>\n",
              "      <td>0.0</td>\n",
              "      <td>0.0</td>\n",
              "      <td>0.0</td>\n",
              "      <td>0.965743</td>\n",
              "      <td>-5.953485</td>\n",
              "      <td>1.590197</td>\n",
              "      <td>0.252097</td>\n",
              "      <td>1.518161</td>\n",
              "      <td>1.445043</td>\n",
              "      <td>0.559738</td>\n",
              "    </tr>\n",
              "    <tr>\n",
              "      <th>3</th>\n",
              "      <td>0.0</td>\n",
              "      <td>0.0</td>\n",
              "      <td>0.0</td>\n",
              "      <td>0.0</td>\n",
              "      <td>0.0</td>\n",
              "      <td>0.0</td>\n",
              "      <td>1.0</td>\n",
              "      <td>0.0</td>\n",
              "      <td>0.0</td>\n",
              "      <td>0.0</td>\n",
              "      <td>...</td>\n",
              "      <td>1.0</td>\n",
              "      <td>0.0</td>\n",
              "      <td>0.0</td>\n",
              "      <td>-0.085442</td>\n",
              "      <td>-0.385488</td>\n",
              "      <td>-0.203157</td>\n",
              "      <td>-0.437578</td>\n",
              "      <td>0.108753</td>\n",
              "      <td>0.151007</td>\n",
              "      <td>0.078636</td>\n",
              "    </tr>\n",
              "    <tr>\n",
              "      <th>4</th>\n",
              "      <td>0.0</td>\n",
              "      <td>0.0</td>\n",
              "      <td>1.0</td>\n",
              "      <td>0.0</td>\n",
              "      <td>0.0</td>\n",
              "      <td>0.0</td>\n",
              "      <td>0.0</td>\n",
              "      <td>0.0</td>\n",
              "      <td>0.0</td>\n",
              "      <td>0.0</td>\n",
              "      <td>...</td>\n",
              "      <td>1.0</td>\n",
              "      <td>0.0</td>\n",
              "      <td>0.0</td>\n",
              "      <td>0.482198</td>\n",
              "      <td>0.449712</td>\n",
              "      <td>-0.651496</td>\n",
              "      <td>0.698137</td>\n",
              "      <td>0.661812</td>\n",
              "      <td>0.615075</td>\n",
              "      <td>0.687089</td>\n",
              "    </tr>\n",
              "  </tbody>\n",
              "</table>\n",
              "<p>5 rows × 22 columns</p>\n",
              "</div>"
            ],
            "text/plain": [
              "   carat  depth  table  price    x    y    z  color_D  color_E  color_F  ...  \\\n",
              "0    0.0    0.0    1.0    0.0  0.0  0.0  0.0      0.0      0.0      1.0  ...   \n",
              "1    0.0    0.0    0.0    0.0  0.0  1.0  0.0      0.0      0.0      0.0  ...   \n",
              "2    0.0    0.0    0.0    1.0  0.0  0.0  0.0      0.0      0.0      0.0  ...   \n",
              "3    0.0    0.0    0.0    0.0  0.0  0.0  1.0      0.0      0.0      0.0  ...   \n",
              "4    0.0    0.0    1.0    0.0  0.0  0.0  0.0      0.0      0.0      0.0  ...   \n",
              "\n",
              "   color_I  color_J  clarity_I1  clarity_IF  clarity_SI1  clarity_SI2  \\\n",
              "0      0.0      0.0         0.0    0.524245    -0.803088     0.693520   \n",
              "1      0.0      0.0         0.0    0.986767     0.171312     1.141859   \n",
              "2      0.0      0.0         0.0    0.965743    -5.953485     1.590197   \n",
              "3      1.0      0.0         0.0   -0.085442    -0.385488    -0.203157   \n",
              "4      1.0      0.0         0.0    0.482198     0.449712    -0.651496   \n",
              "\n",
              "   clarity_VS1  clarity_VS2  clarity_VVS1  clarity_VVS2  \n",
              "0     0.407024     0.688573      0.731092      0.588038  \n",
              "1     0.219612     1.045385      0.998824      1.026690  \n",
              "2     0.252097     1.518161      1.445043      0.559738  \n",
              "3    -0.437578     0.108753      0.151007      0.078636  \n",
              "4     0.698137     0.661812      0.615075      0.687089  \n",
              "\n",
              "[5 rows x 22 columns]"
            ]
          },
          "metadata": {
            "tags": []
          },
          "execution_count": 51
        }
      ]
    },
    {
      "cell_type": "markdown",
      "metadata": {
        "id": "WvuO4GY3bkIN"
      },
      "source": [
        "# What's going on here?"
      ]
    },
    {
      "cell_type": "code",
      "metadata": {
        "id": "kJLT6GWpbkIN"
      },
      "source": [
        ""
      ],
      "execution_count": null,
      "outputs": []
    },
    {
      "cell_type": "code",
      "metadata": {
        "id": "BiJqvTrRbkIN"
      },
      "source": [
        ""
      ],
      "execution_count": null,
      "outputs": []
    },
    {
      "cell_type": "code",
      "metadata": {
        "id": "Q8-KzKS3bkIN"
      },
      "source": [
        ""
      ],
      "execution_count": null,
      "outputs": []
    },
    {
      "cell_type": "code",
      "metadata": {
        "id": "cXoctJNCbkIN"
      },
      "source": [
        ""
      ],
      "execution_count": null,
      "outputs": []
    },
    {
      "cell_type": "code",
      "metadata": {
        "id": "7LQNNJE7bkIN"
      },
      "source": [
        ""
      ],
      "execution_count": null,
      "outputs": []
    },
    {
      "cell_type": "code",
      "metadata": {
        "id": "tcKXlfVtbkIN"
      },
      "source": [
        ""
      ],
      "execution_count": null,
      "outputs": []
    },
    {
      "cell_type": "code",
      "metadata": {
        "id": "ixpUBgVvbkIO"
      },
      "source": [
        ""
      ],
      "execution_count": null,
      "outputs": []
    },
    {
      "cell_type": "code",
      "metadata": {
        "id": "Lidk_7fobkIO"
      },
      "source": [
        ""
      ],
      "execution_count": null,
      "outputs": []
    },
    {
      "cell_type": "code",
      "metadata": {
        "id": "xdS0Zj0CbkIO"
      },
      "source": [
        ""
      ],
      "execution_count": null,
      "outputs": []
    },
    {
      "cell_type": "code",
      "metadata": {
        "id": "KZlcVxJbbkIO"
      },
      "source": [
        ""
      ],
      "execution_count": null,
      "outputs": []
    },
    {
      "cell_type": "code",
      "metadata": {
        "id": "D9zY1tcpbkIO"
      },
      "source": [
        ""
      ],
      "execution_count": null,
      "outputs": []
    },
    {
      "cell_type": "markdown",
      "metadata": {
        "id": "qX7gsZZabkIO"
      },
      "source": [
        "# Order is Important!"
      ]
    },
    {
      "cell_type": "code",
      "metadata": {
        "id": "xUrpFmC8bkIO",
        "outputId": "9127a701-f883-4d1e-a6e6-d4ef7a48f893"
      },
      "source": [
        "feat_cols = cat_ohe_cols + num_cols\n",
        "X_train_tf = pd.DataFrame(best_model.named_steps['preprocess'].fit_transform(X_train), columns=feat_cols)\n",
        "X_train_tf.head()"
      ],
      "execution_count": null,
      "outputs": [
        {
          "output_type": "execute_result",
          "data": {
            "text/html": [
              "<div>\n",
              "<style scoped>\n",
              "    .dataframe tbody tr th:only-of-type {\n",
              "        vertical-align: middle;\n",
              "    }\n",
              "\n",
              "    .dataframe tbody tr th {\n",
              "        vertical-align: top;\n",
              "    }\n",
              "\n",
              "    .dataframe thead th {\n",
              "        text-align: right;\n",
              "    }\n",
              "</style>\n",
              "<table border=\"1\" class=\"dataframe\">\n",
              "  <thead>\n",
              "    <tr style=\"text-align: right;\">\n",
              "      <th></th>\n",
              "      <th>color_D</th>\n",
              "      <th>color_E</th>\n",
              "      <th>color_F</th>\n",
              "      <th>color_G</th>\n",
              "      <th>color_H</th>\n",
              "      <th>color_I</th>\n",
              "      <th>color_J</th>\n",
              "      <th>clarity_I1</th>\n",
              "      <th>clarity_IF</th>\n",
              "      <th>clarity_SI1</th>\n",
              "      <th>...</th>\n",
              "      <th>clarity_VS2</th>\n",
              "      <th>clarity_VVS1</th>\n",
              "      <th>clarity_VVS2</th>\n",
              "      <th>carat</th>\n",
              "      <th>depth</th>\n",
              "      <th>table</th>\n",
              "      <th>price</th>\n",
              "      <th>x</th>\n",
              "      <th>y</th>\n",
              "      <th>z</th>\n",
              "    </tr>\n",
              "  </thead>\n",
              "  <tbody>\n",
              "    <tr>\n",
              "      <th>0</th>\n",
              "      <td>0.0</td>\n",
              "      <td>0.0</td>\n",
              "      <td>1.0</td>\n",
              "      <td>0.0</td>\n",
              "      <td>0.0</td>\n",
              "      <td>0.0</td>\n",
              "      <td>0.0</td>\n",
              "      <td>0.0</td>\n",
              "      <td>0.0</td>\n",
              "      <td>1.0</td>\n",
              "      <td>...</td>\n",
              "      <td>0.0</td>\n",
              "      <td>0.0</td>\n",
              "      <td>0.0</td>\n",
              "      <td>0.524245</td>\n",
              "      <td>-0.803088</td>\n",
              "      <td>0.693520</td>\n",
              "      <td>0.407024</td>\n",
              "      <td>0.688573</td>\n",
              "      <td>0.731092</td>\n",
              "      <td>0.588038</td>\n",
              "    </tr>\n",
              "    <tr>\n",
              "      <th>1</th>\n",
              "      <td>0.0</td>\n",
              "      <td>0.0</td>\n",
              "      <td>0.0</td>\n",
              "      <td>0.0</td>\n",
              "      <td>0.0</td>\n",
              "      <td>1.0</td>\n",
              "      <td>0.0</td>\n",
              "      <td>0.0</td>\n",
              "      <td>0.0</td>\n",
              "      <td>0.0</td>\n",
              "      <td>...</td>\n",
              "      <td>0.0</td>\n",
              "      <td>0.0</td>\n",
              "      <td>0.0</td>\n",
              "      <td>0.986767</td>\n",
              "      <td>0.171312</td>\n",
              "      <td>1.141859</td>\n",
              "      <td>0.219612</td>\n",
              "      <td>1.045385</td>\n",
              "      <td>0.998824</td>\n",
              "      <td>1.026690</td>\n",
              "    </tr>\n",
              "    <tr>\n",
              "      <th>2</th>\n",
              "      <td>0.0</td>\n",
              "      <td>0.0</td>\n",
              "      <td>0.0</td>\n",
              "      <td>1.0</td>\n",
              "      <td>0.0</td>\n",
              "      <td>0.0</td>\n",
              "      <td>0.0</td>\n",
              "      <td>0.0</td>\n",
              "      <td>0.0</td>\n",
              "      <td>0.0</td>\n",
              "      <td>...</td>\n",
              "      <td>0.0</td>\n",
              "      <td>0.0</td>\n",
              "      <td>0.0</td>\n",
              "      <td>0.965743</td>\n",
              "      <td>-5.953485</td>\n",
              "      <td>1.590197</td>\n",
              "      <td>0.252097</td>\n",
              "      <td>1.518161</td>\n",
              "      <td>1.445043</td>\n",
              "      <td>0.559738</td>\n",
              "    </tr>\n",
              "    <tr>\n",
              "      <th>3</th>\n",
              "      <td>0.0</td>\n",
              "      <td>0.0</td>\n",
              "      <td>0.0</td>\n",
              "      <td>0.0</td>\n",
              "      <td>0.0</td>\n",
              "      <td>0.0</td>\n",
              "      <td>1.0</td>\n",
              "      <td>0.0</td>\n",
              "      <td>0.0</td>\n",
              "      <td>0.0</td>\n",
              "      <td>...</td>\n",
              "      <td>1.0</td>\n",
              "      <td>0.0</td>\n",
              "      <td>0.0</td>\n",
              "      <td>-0.085442</td>\n",
              "      <td>-0.385488</td>\n",
              "      <td>-0.203157</td>\n",
              "      <td>-0.437578</td>\n",
              "      <td>0.108753</td>\n",
              "      <td>0.151007</td>\n",
              "      <td>0.078636</td>\n",
              "    </tr>\n",
              "    <tr>\n",
              "      <th>4</th>\n",
              "      <td>0.0</td>\n",
              "      <td>0.0</td>\n",
              "      <td>1.0</td>\n",
              "      <td>0.0</td>\n",
              "      <td>0.0</td>\n",
              "      <td>0.0</td>\n",
              "      <td>0.0</td>\n",
              "      <td>0.0</td>\n",
              "      <td>0.0</td>\n",
              "      <td>0.0</td>\n",
              "      <td>...</td>\n",
              "      <td>1.0</td>\n",
              "      <td>0.0</td>\n",
              "      <td>0.0</td>\n",
              "      <td>0.482198</td>\n",
              "      <td>0.449712</td>\n",
              "      <td>-0.651496</td>\n",
              "      <td>0.698137</td>\n",
              "      <td>0.661812</td>\n",
              "      <td>0.615075</td>\n",
              "      <td>0.687089</td>\n",
              "    </tr>\n",
              "  </tbody>\n",
              "</table>\n",
              "<p>5 rows × 22 columns</p>\n",
              "</div>"
            ],
            "text/plain": [
              "   color_D  color_E  color_F  color_G  color_H  color_I  color_J  clarity_I1  \\\n",
              "0      0.0      0.0      1.0      0.0      0.0      0.0      0.0         0.0   \n",
              "1      0.0      0.0      0.0      0.0      0.0      1.0      0.0         0.0   \n",
              "2      0.0      0.0      0.0      1.0      0.0      0.0      0.0         0.0   \n",
              "3      0.0      0.0      0.0      0.0      0.0      0.0      1.0         0.0   \n",
              "4      0.0      0.0      1.0      0.0      0.0      0.0      0.0         0.0   \n",
              "\n",
              "   clarity_IF  clarity_SI1  ...  clarity_VS2  clarity_VVS1  clarity_VVS2  \\\n",
              "0         0.0          1.0  ...          0.0           0.0           0.0   \n",
              "1         0.0          0.0  ...          0.0           0.0           0.0   \n",
              "2         0.0          0.0  ...          0.0           0.0           0.0   \n",
              "3         0.0          0.0  ...          1.0           0.0           0.0   \n",
              "4         0.0          0.0  ...          1.0           0.0           0.0   \n",
              "\n",
              "      carat     depth     table     price         x         y         z  \n",
              "0  0.524245 -0.803088  0.693520  0.407024  0.688573  0.731092  0.588038  \n",
              "1  0.986767  0.171312  1.141859  0.219612  1.045385  0.998824  1.026690  \n",
              "2  0.965743 -5.953485  1.590197  0.252097  1.518161  1.445043  0.559738  \n",
              "3 -0.085442 -0.385488 -0.203157 -0.437578  0.108753  0.151007  0.078636  \n",
              "4  0.482198  0.449712 -0.651496  0.698137  0.661812  0.615075  0.687089  \n",
              "\n",
              "[5 rows x 22 columns]"
            ]
          },
          "metadata": {
            "tags": []
          },
          "execution_count": 52
        }
      ]
    },
    {
      "cell_type": "code",
      "metadata": {
        "id": "Jahv9PT8bkIO"
      },
      "source": [
        "important_feats = pd.Series(best_model.named_steps['rf'].feature_importances_, \n",
        "                           index=feat_cols)"
      ],
      "execution_count": null,
      "outputs": []
    },
    {
      "cell_type": "code",
      "metadata": {
        "scrolled": true,
        "id": "BiIjtL_dbkIP",
        "outputId": "a47694e8-2482-4db3-a745-88e40e93e068"
      },
      "source": [
        "important_feats.sort_values(ascending=False)[:5]"
      ],
      "execution_count": null,
      "outputs": [
        {
          "output_type": "execute_result",
          "data": {
            "text/plain": [
              "depth    0.320539\n",
              "table    0.170648\n",
              "x        0.090565\n",
              "z        0.088472\n",
              "y        0.086164\n",
              "dtype: float64"
            ]
          },
          "metadata": {
            "tags": []
          },
          "execution_count": 54
        }
      ]
    },
    {
      "cell_type": "code",
      "metadata": {
        "scrolled": true,
        "id": "YekCDdFubkIP",
        "outputId": "03ef5006-3106-4289-ef8e-1de5676abff6"
      },
      "source": [
        "top_feats = important_feats.sort_values(ascending=False).head(10)\n",
        "plt.Figure(figsize=(5, 5))\n",
        "top_feats.sort_values().plot(kind='barh')\n",
        "plt.xlabel('Level of importance')\n",
        "plt.ylabel('Features')\n",
        "plt.title('Blah blah blah');"
      ],
      "execution_count": null,
      "outputs": [
        {
          "output_type": "display_data",
          "data": {
            "image/png": "[encoded data removed]",
            "text/plain": [
              "<Figure size 432x288 with 1 Axes>"
            ]
          },
          "metadata": {
            "tags": [],
            "needs_background": "light"
          }
        }
      ]
    },
    {
      "cell_type": "code",
      "metadata": {
        "id": "oXY4oPHNbkIP"
      },
      "source": [
        ""
      ],
      "execution_count": null,
      "outputs": []
    },
    {
      "cell_type": "code",
      "metadata": {
        "id": "B-K0JrtQbkIP"
      },
      "source": [
        ""
      ],
      "execution_count": null,
      "outputs": []
    },
    {
      "cell_type": "code",
      "metadata": {
        "id": "mOv2-sYJbkIP"
      },
      "source": [
        ""
      ],
      "execution_count": null,
      "outputs": []
    },
    {
      "cell_type": "code",
      "metadata": {
        "id": "ndkPSuIPbkIP"
      },
      "source": [
        ""
      ],
      "execution_count": null,
      "outputs": []
    },
    {
      "cell_type": "code",
      "metadata": {
        "id": "IzluJc1lbkIP"
      },
      "source": [
        ""
      ],
      "execution_count": null,
      "outputs": []
    },
    {
      "cell_type": "code",
      "metadata": {
        "id": "seHvRRtwbkIQ"
      },
      "source": [
        ""
      ],
      "execution_count": null,
      "outputs": []
    },
    {
      "cell_type": "code",
      "metadata": {
        "id": "VGWBW9e0bkIQ"
      },
      "source": [
        ""
      ],
      "execution_count": null,
      "outputs": []
    },
    {
      "cell_type": "code",
      "metadata": {
        "id": "jExPzUyobkIQ"
      },
      "source": [
        ""
      ],
      "execution_count": null,
      "outputs": []
    },
    {
      "cell_type": "code",
      "metadata": {
        "id": "PsixrhZ5bkIQ"
      },
      "source": [
        ""
      ],
      "execution_count": null,
      "outputs": []
    },
    {
      "cell_type": "code",
      "metadata": {
        "id": "8hN8TG__bkIQ"
      },
      "source": [
        ""
      ],
      "execution_count": null,
      "outputs": []
    },
    {
      "cell_type": "code",
      "metadata": {
        "id": "LpFDde42bkIQ"
      },
      "source": [
        ""
      ],
      "execution_count": null,
      "outputs": []
    },
    {
      "cell_type": "code",
      "metadata": {
        "id": "Rb9GGun-bkIQ"
      },
      "source": [
        ""
      ],
      "execution_count": null,
      "outputs": []
    },
    {
      "cell_type": "code",
      "metadata": {
        "id": "IOVMoJRrbkIQ"
      },
      "source": [
        ""
      ],
      "execution_count": null,
      "outputs": []
    },
    {
      "cell_type": "markdown",
      "metadata": {
        "id": "tj-gugyxbkIQ"
      },
      "source": [
        "#### Super Basic example of a Function Transformer"
      ]
    },
    {
      "cell_type": "code",
      "metadata": {
        "id": "8gFA_l2nbkIQ"
      },
      "source": [
        "def inflate_price(X):\n",
        "    new_X = X.copy()\n",
        "    new_X['inflated_price'] = new_X['price'] + 100\n",
        "    return new_X"
      ],
      "execution_count": null,
      "outputs": []
    },
    {
      "cell_type": "code",
      "metadata": {
        "id": "3moAZh_JbkIR"
      },
      "source": [
        "ft = FunctionTransformer(func=inflate_price)"
      ],
      "execution_count": null,
      "outputs": []
    },
    {
      "cell_type": "code",
      "metadata": {
        "id": "g9YRzyLsbkIR"
      },
      "source": [
        "ft.fit_transform(X_train)"
      ],
      "execution_count": null,
      "outputs": []
    },
    {
      "cell_type": "code",
      "metadata": {
        "id": "csdGVCKrbkIR"
      },
      "source": [
        ""
      ],
      "execution_count": null,
      "outputs": []
    }
  ]
}